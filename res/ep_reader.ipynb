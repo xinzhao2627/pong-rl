{
 "cells": [
  {
   "cell_type": "code",
   "execution_count": 2,
   "id": "e740170a",
   "metadata": {},
   "outputs": [],
   "source": [
    "import pandas as pd"
   ]
  },
  {
   "cell_type": "code",
   "execution_count": 5,
   "id": "9e05426f",
   "metadata": {},
   "outputs": [
    {
     "name": "stdout",
     "output_type": "stream",
     "text": [
      "DQN-1 EPISODE: 2493\n",
      "DQN-2 EPISODE: 2590\n",
      "PPO-1 EPISODE: 2198\n",
      "PPO-2 EPISODE: 2460\n"
     ]
    }
   ],
   "source": [
    "dqn1 = pd.read_json(\"dqn1.json\")\n",
    "dqn2 = pd.read_json(\"dqn2.json\")\n",
    "ppo1 = pd.read_json(\"ppo1.json\")\n",
    "ppo2 = pd.read_json(\"ppo2.json\")\n",
    "\n",
    "\n",
    "print(f\"DQN-1 EPISODE: {len(dqn1)}\")\n",
    "print(f\"DQN-2 EPISODE: {len(dqn2)}\")\n",
    "print(f\"PPO-1 EPISODE: {len(ppo1)}\")\n",
    "print(f\"PPO-2 EPISODE: {len(ppo2)}\")"
   ]
  }
 ],
 "metadata": {
  "kernelspec": {
   "display_name": "mainenv",
   "language": "python",
   "name": "python3"
  },
  "language_info": {
   "codemirror_mode": {
    "name": "ipython",
    "version": 3
   },
   "file_extension": ".py",
   "mimetype": "text/x-python",
   "name": "python",
   "nbconvert_exporter": "python",
   "pygments_lexer": "ipython3",
   "version": "3.12.9"
  }
 },
 "nbformat": 4,
 "nbformat_minor": 5
}
