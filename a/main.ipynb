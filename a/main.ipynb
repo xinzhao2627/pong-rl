{
 "cells": [
  {
   "cell_type": "code",
   "execution_count": 6,
   "id": "9b460f8c",
   "metadata": {},
   "outputs": [],
   "source": [
    "import gymnasium as gym\n",
    "import os\n",
    "from stable_baselines3 import DQN\n",
    "from stable_baselines3.common.vec_env import DummyVecEnv, VecFrameStack, VecNormalize\n",
    "import ale_py\n",
    "from stable_baselines3.common.env_checker import check_env\n",
    "from stable_baselines3.common.env_util import make_atari_env\n",
    "from stable_baselines3.common.callbacks import BaseCallback, CheckpointCallback\n",
    "import numpy as np\n",
    "from stable_baselines3.common.evaluation import evaluate_policy\n",
    "import time"
   ]
  },
  {
   "cell_type": "code",
   "execution_count": 7,
   "id": "347aa7b4",
   "metadata": {},
   "outputs": [],
   "source": [
    "# save_dir = \"./sb3_pong_models_dqn\"\n",
    "# model_path = os.path.join(save_dir, \"pong_dqn_final_model.zip\")\n",
    "# config = {\n",
    "#     \"env_name\": \"PongNoFrameskip-v4\",\n",
    "#     \"num_envs\": 1,\n",
    "#     \"seed\": 100,\n",
    "# }\n",
    "# eval_env = make_atari_env(config[\"env_name\"], n_envs=config[\"num_envs\"], seed=config[\"seed\"], env_kwargs={\"render_mode\": \"human\"})\n",
    "# eval_env = VecFrameStack(eval_env, n_stack=4)\n",
    "# model = DQN.load(model_path, env=eval_env)\n",
    "# obs = eval_env.reset()\n",
    "# done = False\n",
    "\n",
    "# while not done:\n",
    "#     eval_env.render()\n",
    "#     action, _states = model.predict(obs, deterministic=True)\n",
    "#     obss, rewards, dones, infos = eval_env.step(action)\n",
    "#     done = dones[0]\n",
    "    \n"
   ]
  },
  {
   "cell_type": "code",
   "execution_count": null,
   "id": "eda95bb9",
   "metadata": {},
   "outputs": [
    {
     "name": "stdout",
     "output_type": "stream",
     "text": [
      "Wrapping the env in a VecTransposeImage.\n"
     ]
    },
    {
     "ename": "",
     "evalue": "",
     "output_type": "error",
     "traceback": [
      "\u001b[1;31mThe Kernel crashed while executing code in the current cell or a previous cell. \n",
      "\u001b[1;31mPlease review the code in the cell(s) to identify a possible cause of the failure. \n",
      "\u001b[1;31mClick <a href='https://aka.ms/vscodeJupyterKernelCrash'>here</a> for more info. \n",
      "\u001b[1;31mView Jupyter <a href='command:jupyter.viewOutput'>log</a> for further details."
     ]
    }
   ],
   "source": [
    "from stable_baselines3.common.vec_env import DummyVecEnv, VecFrameStack\n",
    "from stable_baselines3 import DQN\n",
    "\n",
    "# env = gym.make(\"PongNoFrameskip-v4\", render_mode=\"human\")\n",
    "config = {\n",
    "    \"env_name\": \"PongNoFrameskip-v4\",\n",
    "    \"num_envs\": 1,\n",
    "    \"seed\": 100,\n",
    "}\n",
    "eval_env = make_atari_env(config[\"env_name\"], n_envs=config[\"num_envs\"], seed=config[\"seed\"], env_kwargs={\"render_mode\": \"human\", \"difficulty\": 3})\n",
    "env = VecFrameStack(eval_env, n_stack=4)\n",
    "model_path = \"./sb3_pong_models_dqn/pong_dqn_final_model.zip\"\n",
    "model = DQN.load(model_path, env=env)\n",
    "vec_env = model.get_env()\n",
    "obs = vec_env.reset()\n",
    "for i in range(1000):\n",
    "    action, _states = model.predict(obs, deterministic=True)\n",
    "    obs, rewards, dones, info = vec_env.step(action)\n",
    "    vec_env.render(\"human\")\n"
   ]
  }
 ],
 "metadata": {
  "kernelspec": {
   "display_name": "venv (3.11.13)",
   "language": "python",
   "name": "python3"
  },
  "language_info": {
   "codemirror_mode": {
    "name": "ipython",
    "version": 3
   },
   "file_extension": ".py",
   "mimetype": "text/x-python",
   "name": "python",
   "nbconvert_exporter": "python",
   "pygments_lexer": "ipython3",
   "version": "3.11.13"
  }
 },
 "nbformat": 4,
 "nbformat_minor": 5
}
